{
 "cells": [
  {
   "cell_type": "markdown",
   "metadata": {},
   "source": [
    "## Naive KNN for MNIST"
   ]
  },
  {
   "cell_type": "code",
   "execution_count": 4,
   "metadata": {},
   "outputs": [],
   "source": [
    "import numpy as np\n",
    "from mnist import MNIST\n",
    "import matplotlib.pyplot as plt\n",
    "%matplotlib inline\n",
    "\n",
    "mndata = MNIST('data')\n",
    "trX,trY = mndata.load_training()\n",
    "teX,teY = mndata.load_testing()\n",
    "training_data  = np.asarray(trX)\n",
    "test_data      = np.asarray(teX)\n",
    "\n",
    "# One_Hot Encoding\n",
    "targets = np.asarray(trY).reshape(-1)\n",
    "one_hot_targets = np.eye(10)[targets]\n",
    "training_label = one_hot_targets\n",
    "targets = np.asarray(teY).reshape(-1)\n",
    "one_hot_targets = np.eye(10)[targets]\n",
    "test_label = one_hot_targets"
   ]
  },
  {
   "cell_type": "code",
   "execution_count": 97,
   "metadata": {},
   "outputs": [],
   "source": [
    "trLabel=np.array(trY)\n",
    "teLabel=np.array(teY)"
   ]
  },
  {
   "cell_type": "markdown",
   "metadata": {},
   "source": [
    "## Distances"
   ]
  },
  {
   "cell_type": "code",
   "execution_count": 58,
   "metadata": {},
   "outputs": [],
   "source": [
    "def Euclidean_distance (x, y):\n",
    "    return np.sqrt(np.sum(np.square((x-y))))\n",
    "\n",
    "def L1_distance (x,y):\n",
    "    return np.sum(np.abs(x-y))"
   ]
  },
  {
   "cell_type": "markdown",
   "metadata": {},
   "source": [
    "## Prediction"
   ]
  },
  {
   "cell_type": "code",
   "execution_count": 116,
   "metadata": {},
   "outputs": [],
   "source": [
    "def predict(te, k):\n",
    "    numTr = training_data.shape[0]\n",
    "    dist = np.zeros([numTr])\n",
    "    \n",
    "    # calculate distances\n",
    "    for i in range(numTr):\n",
    "        dist[i]=Euclidean_distance(te,training_data[i,:])\n",
    "    \n",
    "    # find nearest neighbor\n",
    "    nearest = trLabel[np.argsort(dist)[:k]]\n",
    "    # majority voting\n",
    "    counts = np.bincount(nearest)\n",
    "    return np.argmax(counts)"
   ]
  },
  {
   "cell_type": "code",
   "execution_count": 130,
   "metadata": {},
   "outputs": [
    {
     "name": "stdout",
     "output_type": "stream",
     "text": [
      "= = = = = = = = = = = = = = = = = = = = = = = = = = = = = = = = = = = = = = = = = = = = = = = = = = = = = = = = = = = = = = = = = = = = = = = = = = = = = = = = = = = = = = = = = = = = = = = = = = = = "
     ]
    }
   ],
   "source": [
    "k=5\n",
    "numData = test_data.shape[0]\n",
    "pr=np.zeros([numData])\n",
    "for i in range(numData):\n",
    "    pr[i]=predict(test_data[i,:],k)\n",
    "    if i%100==0:\n",
    "        print('=', end=' ')"
   ]
  },
  {
   "cell_type": "code",
   "execution_count": 136,
   "metadata": {},
   "outputs": [
    {
     "data": {
      "text/plain": [
       "0"
      ]
     },
     "execution_count": 136,
     "metadata": {},
     "output_type": "execute_result"
    }
   ],
   "source": [
    "200%100"
   ]
  },
  {
   "cell_type": "markdown",
   "metadata": {},
   "source": [
    "## Accuracy check"
   ]
  },
  {
   "cell_type": "code",
   "execution_count": 131,
   "metadata": {},
   "outputs": [
    {
     "name": "stdout",
     "output_type": "stream",
     "text": [
      "Accuracy : 96.88%\n"
     ]
    }
   ],
   "source": [
    "equals = np.equal(pr, teLabel)\n",
    "acc = np.sum(equals)/teLabel.shape[0]\n",
    "print ('Accuracy : %.2f' %(acc*100) +'%')"
   ]
  },
  {
   "cell_type": "code",
   "execution_count": null,
   "metadata": {},
   "outputs": [],
   "source": []
  },
  {
   "cell_type": "code",
   "execution_count": 92,
   "metadata": {},
   "outputs": [
    {
     "data": {
      "text/plain": [
       "3"
      ]
     },
     "execution_count": 92,
     "metadata": {},
     "output_type": "execute_result"
    }
   ],
   "source": [
    "a=np.array([1,2,3,4,5])\n",
    "b=np.array([1,2,5,4,2])\n",
    "c=np.equal(a,b)\n",
    "np.sum(c)"
   ]
  },
  {
   "cell_type": "code",
   "execution_count": 77,
   "metadata": {},
   "outputs": [
    {
     "name": "stdout",
     "output_type": "stream",
     "text": [
      "1\n"
     ]
    }
   ],
   "source": [
    "a = np.array([2,2,3,1,2,2,1,1,1,1,3,2,2,1])\n",
    "counts = np.bincount(a)\n",
    "print (np.argmax(counts))"
   ]
  },
  {
   "cell_type": "code",
   "execution_count": 61,
   "metadata": {},
   "outputs": [
    {
     "data": {
      "text/plain": [
       "array([1, 2])"
      ]
     },
     "execution_count": 61,
     "metadata": {},
     "output_type": "execute_result"
    }
   ],
   "source": [
    "a=np.array([1,2,30,0,5])\n",
    "b=np.array([2,3,5,1,4])\n",
    "b[np.argsort(a)[:2]]"
   ]
  },
  {
   "cell_type": "code",
   "execution_count": 90,
   "metadata": {},
   "outputs": [
    {
     "data": {
      "text/plain": [
       "<matplotlib.image.AxesImage at 0x7f844113fe48>"
      ]
     },
     "execution_count": 90,
     "metadata": {},
     "output_type": "execute_result"
    },
    {
     "data": {
      "image/png": "[encoded data removed]",
      "text/plain": [
       "<matplotlib.figure.Figure at 0x7f84411c16a0>"
      ]
     },
     "metadata": {},
     "output_type": "display_data"
    }
   ],
   "source": [
    "plt.imshow(np.reshape(test_data[0,:],[28,28]))"
   ]
  },
  {
   "cell_type": "code",
   "execution_count": null,
   "metadata": {},
   "outputs": [],
   "source": []
  }
 ],
 "metadata": {
  "kernelspec": {
   "display_name": "Python 3",
   "language": "python",
   "name": "python3"
  },
  "language_info": {
   "codemirror_mode": {
    "name": "ipython",
    "version": 3
   },
   "file_extension": ".py",
   "mimetype": "text/x-python",
   "name": "python",
   "nbconvert_exporter": "python",
   "pygments_lexer": "ipython3",
   "version": "3.5.2"
  }
 },
 "nbformat": 4,
 "nbformat_minor": 2
}
