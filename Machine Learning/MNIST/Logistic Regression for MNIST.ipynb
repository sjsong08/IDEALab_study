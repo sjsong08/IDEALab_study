{
 "cells": [
  {
   "cell_type": "markdown",
   "metadata": {},
   "source": [
    "# Naive Multinomial Logistic Regression for MNIST"
   ]
  },
  {
   "cell_type": "code",
   "execution_count": 136,
   "metadata": {},
   "outputs": [],
   "source": [
    "import numpy as np\n",
    "from mnist import MNIST\n",
    "import matplotlib.pyplot as plt\n",
    "%matplotlib inline\n",
    "\n",
    "mndata = MNIST('data')\n",
    "trX,trY = mndata.load_training()\n",
    "teX,teY = mndata.load_testing()\n",
    "training_data  = np.asarray(trX)\n",
    "test_data      = np.asarray(teX)\n",
    "\n",
    "# One_Hot Encoding\n",
    "targets = np.asarray(trY).reshape(-1)\n",
    "one_hot_targets = np.eye(10)[targets]\n",
    "training_label = one_hot_targets\n",
    "targets = np.asarray(teY).reshape(-1)\n",
    "one_hot_targets = np.eye(10)[targets]\n",
    "test_label = one_hot_targets\n",
    "trLabel=np.array(trY)\n",
    "teLabel=np.array(teY)"
   ]
  },
  {
   "cell_type": "code",
   "execution_count": 357,
   "metadata": {},
   "outputs": [],
   "source": [
    "W = np.zeros([784,10])\n",
    "learing_rate = 0.0000001\n"
   ]
  },
  {
   "cell_type": "code",
   "execution_count": 349,
   "metadata": {},
   "outputs": [],
   "source": [
    "def softmax(x):\n",
    "    return np.exp(x)/np.sum(np.exp(x))"
   ]
  },
  {
   "cell_type": "code",
   "execution_count": 350,
   "metadata": {},
   "outputs": [],
   "source": [
    "def grad_cal(x,y):\n",
    "    o=softmax(W.T.dot(x))\n",
    "    grad = np.zeros([784,10])\n",
    "    \n",
    "    for j in range(10):\n",
    "        grad[:,j]=(o[j]-y[j])*x\n",
    "            \n",
    "    return grad"
   ]
  },
  {
   "cell_type": "code",
   "execution_count": 351,
   "metadata": {},
   "outputs": [],
   "source": [
    "def pred(x):\n",
    "    return np.argmax(softmax(x))"
   ]
  },
  {
   "cell_type": "code",
   "execution_count": 352,
   "metadata": {},
   "outputs": [],
   "source": [
    "def accuracy(X,Label):\n",
    "    equals = np.equal(X, Label)\n",
    "    acc = np.sum(equals)/Label.shape[0]\n",
    "    print ('Accuracy : %.2f' %(acc*100) +'%')\n",
    "    return acc"
   ]
  },
  {
   "cell_type": "code",
   "execution_count": 359,
   "metadata": {},
   "outputs": [
    {
     "name": "stdout",
     "output_type": "stream",
     "text": [
      "Accuracy : 92.23%\n",
      "Accuracy : 92.23%\n",
      "Accuracy : 92.23%\n",
      "Accuracy : 92.23%\n",
      "Accuracy : 92.23%\n",
      "Accuracy : 92.23%\n",
      "Accuracy : 92.23%\n",
      "Accuracy : 92.23%\n",
      "Accuracy : 92.23%\n",
      "Accuracy : 92.23%\n",
      "Accuracy : 92.23%\n",
      "Accuracy : 92.23%\n",
      "Accuracy : 92.23%\n",
      "Accuracy : 92.23%\n",
      "Accuracy : 92.23%\n",
      "Accuracy : 92.23%\n",
      "Accuracy : 92.23%\n",
      "Accuracy : 92.23%\n",
      "Accuracy : 92.23%\n",
      "Accuracy : 92.23%\n"
     ]
    }
   ],
   "source": [
    "for epoch in range(20):\n",
    "    dW=np.zeros([784,10])\n",
    "\n",
    "    for i in range(60000):        \n",
    "        dW=grad_cal(training_data[i,:],training_label[i,:])\n",
    "    \n",
    "        W=W-learing_rate*dW\n",
    "    \n",
    "    learing_rate*=0.2\n",
    "    pr=np.zeros([60000])\n",
    "    \n",
    "    for tr in range(training_data.shape[0]):\n",
    "        pr[tr]=pred(W.T.dot(training_data[tr,:]))\n",
    "    accuracy(pr, trLabel)\n",
    "    "
   ]
  },
  {
   "cell_type": "markdown",
   "metadata": {},
   "source": [
    "## Test Accuracy"
   ]
  },
  {
   "cell_type": "code",
   "execution_count": 354,
   "metadata": {},
   "outputs": [
    {
     "name": "stdout",
     "output_type": "stream",
     "text": [
      "Accuracy : 92.19%\n"
     ]
    },
    {
     "data": {
      "text/plain": [
       "0.92190000000000005"
      ]
     },
     "execution_count": 354,
     "metadata": {},
     "output_type": "execute_result"
    }
   ],
   "source": [
    "prTest = np.zeros(test_data.shape[0])\n",
    "for te in range(test_data.shape[0]):\n",
    "    prTest[te]=pred(W.T.dot(test_data[te,:]))\n",
    "accuracy(prTest,teLabel)\n",
    "    "
   ]
  },
  {
   "cell_type": "code",
   "execution_count": null,
   "metadata": {},
   "outputs": [],
   "source": []
  }
 ],
 "metadata": {
  "kernelspec": {
   "display_name": "Python 3",
   "language": "python",
   "name": "python3"
  },
  "language_info": {
   "codemirror_mode": {
    "name": "ipython",
    "version": 3
   },
   "file_extension": ".py",
   "mimetype": "text/x-python",
   "name": "python",
   "nbconvert_exporter": "python",
   "pygments_lexer": "ipython3",
   "version": "3.5.2"
  }
 },
 "nbformat": 4,
 "nbformat_minor": 2
}
