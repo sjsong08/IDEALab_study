{
 "cells": [
  {
   "cell_type": "markdown",
   "metadata": {},
   "source": [
    "# Preparing MNIST dataset "
   ]
  },
  {
   "cell_type": "markdown",
   "metadata": {},
   "source": [
    "1. [Lecun](http://yann.lecun.com/exdb/mnist/)  여기에서 다음 네 개 파일 다운\n",
    "\n",
    "><span style=\"color:red\">*train-images-idx3-ubyte.gz*   \n",
    "*train-labels-idx1-ubyte.gz*  \n",
    "*t10k-images-idx3-ubyte.gz*  \n",
    "*t10k-labels-idx1-ubyte.gz*\n",
    "</span>\n",
    "  \n",
    "2. python code를 저장할 폴더 내 'data' 폴더를 만든 뒤 각각 압축 해제  \n",
    "\n",
    "3. [MNIST_load](https://github.com/sjsong08/IDEALab_study/tree/master/Machine%20Learning/MNIST)  여기에서 mnist.zip 다운  \n",
    "\n",
    "    이 파일은 data폴더의 상위폴더 (작업할 공간)에 압축 해제\n",
    "\n",
    "\n",
    "4. 작업할 python 코드에서 아래와 같이 Dataset load"
   ]
  },
  {
   "cell_type": "code",
   "execution_count": 125,
   "metadata": {
    "collapsed": false
   },
   "outputs": [],
   "source": [
    "import numpy as np\n",
    "from mnist import MNIST\n",
    "\n",
    "mndata = MNIST('data')\n",
    "trX,trY = mndata.load_training()\n",
    "teX,teY = mndata.load_testing()\n",
    "training_data  = np.asarray(trX)\n",
    "test_data      = np.asarray(teX)\n",
    "\n",
    "# One_Hot Encoding\n",
    "targets = np.asarray(trY).reshape(-1)\n",
    "one_hot_targets = np.eye(10)[targets]\n",
    "training_label = one_hot_targets\n",
    "targets = np.asarray(teY).reshape(-1)\n",
    "one_hot_targets = np.eye(10)[targets]\n",
    "test_label = one_hot_targets"
   ]
  },
  {
   "cell_type": "markdown",
   "metadata": {},
   "source": [
    "# MNIST DATA\n",
    "MNIST data는 training data 60000개, test data 10000개로 이루어져 있고,  \n",
    "각 이미지의 dimension은 [28 x 28] = 784 개로 구성 됨."
   ]
  },
  {
   "cell_type": "code",
   "execution_count": 122,
   "metadata": {
    "collapsed": false,
    "scrolled": false
   },
   "outputs": [
    {
     "name": "stdout",
     "output_type": "stream",
     "text": [
      "training data :  60000\n",
      "test data     :  10000\n"
     ]
    },
    {
     "data": {
      "image/png": "[encoded data removed]",
      "text/plain": [
       "<matplotlib.figure.Figure at 0xc89f1d0>"
      ]
     },
     "metadata": {},
     "output_type": "display_data"
    }
   ],
   "source": [
    "import matplotlib.pyplot as plt\n",
    "%matplotlib inline\n",
    "print('training data : '),\n",
    "print(training_data.shape[0])\n",
    "print('test data     : '),\n",
    "print(test_data.shape[0])\n",
    "\n",
    "plt.figure(figsize=[15,5])\n",
    "for i in range (5):\n",
    "    plt.subplot(1,5,i+1)\n",
    "    image = np.reshape(training_data[i], [28,28])\n",
    "    plt.imshow(image, cmap='gray')\n",
    "    plt.gca().axis('off')\n",
    "plt.show()"
   ]
  },
  {
   "cell_type": "markdown",
   "metadata": {},
   "source": [
    "### 앞으로 사용할 변수는\n",
    "- 학습 데이터  &emsp; : training_data  \n",
    "- 학습 데이터의 정답   : training_label  \n",
    "- 테스트 데이터        : test_data  \n",
    "- 테스트 데이터의 정답 : test_label"
   ]
  },
  {
   "cell_type": "code",
   "execution_count": null,
   "metadata": {
    "collapsed": true
   },
   "outputs": [],
   "source": []
  }
 ],
 "metadata": {
  "kernelspec": {
   "display_name": "Python 2",
   "language": "python",
   "name": "python2"
  },
  "language_info": {
   "codemirror_mode": {
    "name": "ipython",
    "version": 2
   },
   "file_extension": ".py",
   "mimetype": "text/x-python",
   "name": "python",
   "nbconvert_exporter": "python",
   "pygments_lexer": "ipython2",
   "version": "2.7.13"
  }
 },
 "nbformat": 4,
 "nbformat_minor": 2
}
