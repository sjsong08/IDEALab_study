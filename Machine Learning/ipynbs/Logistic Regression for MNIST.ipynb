{
 "cells": [
  {
   "cell_type": "markdown",
   "metadata": {},
   "source": [
    "# Naive Multinomial Logistic Regression for MNIST"
   ]
  },
  {
   "cell_type": "code",
   "execution_count": 6,
   "metadata": {},
   "outputs": [],
   "source": [
    "import numpy as np\n",
    "from mnist import MNIST\n",
    "import matplotlib.pyplot as plt\n",
    "%matplotlib inline\n",
    "\n",
    "mndata = MNIST('data')\n",
    "trX,trY = mndata.load_training()\n",
    "teX,teY = mndata.load_testing()\n",
    "training_data  = np.asarray(trX)\n",
    "test_data      = np.asarray(teX)\n",
    "\n",
    "# One_Hot Encoding\n",
    "targets = np.asarray(trY).reshape(-1)\n",
    "one_hot_targets = np.eye(10)[targets]\n",
    "training_label = one_hot_targets\n",
    "targets = np.asarray(teY).reshape(-1)\n",
    "one_hot_targets = np.eye(10)[targets]\n",
    "test_label = one_hot_targets\n",
    "trLabel=np.array(trY)\n",
    "teLabel=np.array(teY)"
   ]
  },
  {
   "cell_type": "code",
   "execution_count": 7,
   "metadata": {},
   "outputs": [],
   "source": [
    "W = np.zeros([784,10])\n",
    "learing_rate = 0.0000001\n"
   ]
  },
  {
   "cell_type": "code",
   "execution_count": 3,
   "metadata": {},
   "outputs": [],
   "source": [
    "def softmax(x):\n",
    "    return np.exp(x)/np.sum(np.exp(x))"
   ]
  },
  {
   "cell_type": "code",
   "execution_count": 4,
   "metadata": {},
   "outputs": [],
   "source": [
    "def grad_cal(x,y):\n",
    "    o=softmax(W.T.dot(x))\n",
    "    grad = np.zeros([784,10])\n",
    "    \n",
    "    for j in range(10):\n",
    "        grad[:,j]=(o[j]-y[j])*x\n",
    "            \n",
    "    return grad"
   ]
  },
  {
   "cell_type": "code",
   "execution_count": 3,
   "metadata": {},
   "outputs": [],
   "source": [
    "def pred(x):\n",
    "    return np.argmax(softmax(x))"
   ]
  },
  {
   "cell_type": "code",
   "execution_count": 4,
   "metadata": {},
   "outputs": [],
   "source": [
    "def accuracy(X,Label):\n",
    "    equals = np.equal(X, Label)\n",
    "    acc = np.sum(equals)/Label.shape[0]\n",
    "    print ('Accuracy : %.2f' %(acc*100) +'%')\n",
    "    return acc"
   ]
  },
  {
   "cell_type": "code",
   "execution_count": 5,
   "metadata": {},
   "outputs": [
    {
     "ename": "NameError",
     "evalue": "name 'grad_cal' is not defined",
     "output_type": "error",
     "traceback": [
      "\u001b[0;31m---------------------------------------------------------------------------\u001b[0m",
      "\u001b[0;31mNameError\u001b[0m                                 Traceback (most recent call last)",
      "\u001b[0;32m<ipython-input-5-0a576bdadefe>\u001b[0m in \u001b[0;36m<module>\u001b[0;34m()\u001b[0m\n\u001b[1;32m      3\u001b[0m \u001b[0;34m\u001b[0m\u001b[0m\n\u001b[1;32m      4\u001b[0m     \u001b[0;32mfor\u001b[0m \u001b[0mi\u001b[0m \u001b[0;32min\u001b[0m \u001b[0mrange\u001b[0m\u001b[0;34m(\u001b[0m\u001b[0;36m60000\u001b[0m\u001b[0;34m)\u001b[0m\u001b[0;34m:\u001b[0m\u001b[0;34m\u001b[0m\u001b[0m\n\u001b[0;32m----> 5\u001b[0;31m         \u001b[0mdW\u001b[0m\u001b[0;34m=\u001b[0m\u001b[0mgrad_cal\u001b[0m\u001b[0;34m(\u001b[0m\u001b[0mtraining_data\u001b[0m\u001b[0;34m[\u001b[0m\u001b[0mi\u001b[0m\u001b[0;34m,\u001b[0m\u001b[0;34m:\u001b[0m\u001b[0;34m]\u001b[0m\u001b[0;34m,\u001b[0m\u001b[0mtraining_label\u001b[0m\u001b[0;34m[\u001b[0m\u001b[0mi\u001b[0m\u001b[0;34m,\u001b[0m\u001b[0;34m:\u001b[0m\u001b[0;34m]\u001b[0m\u001b[0;34m)\u001b[0m\u001b[0;34m\u001b[0m\u001b[0m\n\u001b[0m\u001b[1;32m      6\u001b[0m \u001b[0;34m\u001b[0m\u001b[0m\n\u001b[1;32m      7\u001b[0m         \u001b[0mW\u001b[0m\u001b[0;34m=\u001b[0m\u001b[0mW\u001b[0m\u001b[0;34m-\u001b[0m\u001b[0mlearing_rate\u001b[0m\u001b[0;34m*\u001b[0m\u001b[0mdW\u001b[0m\u001b[0;34m\u001b[0m\u001b[0m\n",
      "\u001b[0;31mNameError\u001b[0m: name 'grad_cal' is not defined"
     ]
    }
   ],
   "source": [
    "for epoch in range(20):\n",
    "    dW=np.zeros([784,10])\n",
    "\n",
    "    for i in range(60000):        \n",
    "        dW=grad_cal(training_data[i,:],training_label[i,:])\n",
    "    \n",
    "        W=W-learing_rate*dW\n",
    "    \n",
    "    learing_rate*=0.2\n",
    "    pr=np.zeros([60000])\n",
    "    \n",
    "    for tr in range(training_data.shape[0]):\n",
    "        pr[tr]=pred(W.T.dot(training_data[tr,:]))\n",
    "    accuracy(pr, trLabel)\n",
    "    "
   ]
  },
  {
   "cell_type": "markdown",
   "metadata": {},
   "source": [
    "## Test Accuracy"
   ]
  },
  {
   "cell_type": "code",
   "execution_count": 354,
   "metadata": {},
   "outputs": [
    {
     "name": "stdout",
     "output_type": "stream",
     "text": [
      "Accuracy : 92.19%\n"
     ]
    },
    {
     "data": {
      "text/plain": [
       "0.92190000000000005"
      ]
     },
     "execution_count": 354,
     "metadata": {},
     "output_type": "execute_result"
    }
   ],
   "source": [
    "prTest = np.zeros(test_data.shape[0])\n",
    "for te in range(test_data.shape[0]):\n",
    "    prTest[te]=pred(W.T.dot(test_data[te,:]))\n",
    "accuracy(prTest,teLabel)\n",
    "    "
   ]
  },
  {
   "cell_type": "code",
   "execution_count": null,
   "metadata": {},
   "outputs": [],
   "source": []
  }
 ],
 "metadata": {
  "kernelspec": {
   "display_name": "Python 3",
   "language": "python",
   "name": "python3"
  },
  "language_info": {
   "codemirror_mode": {
    "name": "ipython",
    "version": 3
   },
   "file_extension": ".py",
   "mimetype": "text/x-python",
   "name": "python",
   "nbconvert_exporter": "python",
   "pygments_lexer": "ipython3",
   "version": "3.5.2"
  }
 },
 "nbformat": 4,
 "nbformat_minor": 2
}
