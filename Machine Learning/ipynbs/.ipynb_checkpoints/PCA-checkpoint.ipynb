{
 "cells": [
  {
   "cell_type": "code",
   "execution_count": 2,
   "metadata": {
    "ExecuteTime": {
     "end_time": "2018-06-21T07:56:37.954801Z",
     "start_time": "2018-06-21T07:56:37.823699Z"
    }
   },
   "outputs": [],
   "source": [
    "import numpy as np\n",
    "import matplotlib.pyplot as plt\n",
    "import scipy.io\n",
    "%matplotlib inline"
   ]
  },
  {
   "cell_type": "markdown",
   "metadata": {},
   "source": [
    "## Prepare face dataset\n"
   ]
  },
  {
   "cell_type": "code",
   "execution_count": 58,
   "metadata": {
    "ExecuteTime": {
     "end_time": "2018-06-21T10:25:09.750549Z",
     "start_time": "2018-06-21T10:25:09.711690Z"
    }
   },
   "outputs": [
    {
     "data": {
      "text/plain": [
       "(2429, 19, 19)"
      ]
     },
     "execution_count": 58,
     "metadata": {},
     "output_type": "execute_result"
    }
   ],
   "source": [
    "mat_data = scipy.io.loadmat('data/facesCBCL.mat')\n",
    "faces = mat_data['X']\n",
    "faces = np.transpose(faces, [2,0,1])\n",
    "faces.shape"
   ]
  },
  {
   "cell_type": "code",
   "execution_count": 46,
   "metadata": {
    "ExecuteTime": {
     "end_time": "2018-06-21T10:14:05.722621Z",
     "start_time": "2018-06-21T10:14:05.469815Z"
    }
   },
   "outputs": [
    {
     "data": {
      "text/plain": [
       "(-0.5, 227.5, 18.5, -0.5)"
      ]
     },
     "execution_count": 46,
     "metadata": {},
     "output_type": "execute_result"
    },
    {
     "data": {
      "image/png": "[encoded data removed]",
      "text/plain": [
       "<matplotlib.figure.Figure at 0x7f0c33d14f98>"
      ]
     },
     "metadata": {},
     "output_type": "display_data"
    }
   ],
   "source": [
    "faces_show = np.concatenate([faces[i] for i in range(0, 120, 10)], axis=1)\n",
    "plt.figure(figsize=[20,20])\n",
    "plt.imshow(faces_show, cmap='gray')\n",
    "plt.axis('off')"
   ]
  },
  {
   "cell_type": "markdown",
   "metadata": {},
   "source": [
    "## Mean of data"
   ]
  },
  {
   "cell_type": "code",
   "execution_count": 59,
   "metadata": {
    "ExecuteTime": {
     "end_time": "2018-06-21T10:25:13.092545Z",
     "start_time": "2018-06-21T10:25:12.884889Z"
    }
   },
   "outputs": [
    {
     "data": {
      "text/plain": [
       "<matplotlib.text.Text at 0x7f0c3247d6d8>"
      ]
     },
     "execution_count": 59,
     "metadata": {},
     "output_type": "execute_result"
    },
    {
     "data": {
      "image/png": "[encoded data removed]",
      "text/plain": [
       "<matplotlib.figure.Figure at 0x7f0c324797f0>"
      ]
     },
     "metadata": {},
     "output_type": "display_data"
    }
   ],
   "source": [
    "m_faces = np.mean(faces, axis=0)\n",
    "plt.imshow(m_faces, cmap='gray')\n",
    "plt.title('Mean Face')"
   ]
  },
  {
   "cell_type": "markdown",
   "metadata": {},
   "source": [
    "## Reshape"
   ]
  },
  {
   "cell_type": "code",
   "execution_count": 64,
   "metadata": {
    "ExecuteTime": {
     "end_time": "2018-06-21T10:26:18.631041Z",
     "start_time": "2018-06-21T10:26:18.624871Z"
    }
   },
   "outputs": [],
   "source": [
    "faces = np.reshape(faces, [faces.shape[0], 361])\n",
    "m_faces = np.reshape(m_faces, [361])"
   ]
  },
  {
   "cell_type": "markdown",
   "metadata": {},
   "source": [
    "## Covariance of data"
   ]
  },
  {
   "cell_type": "code",
   "execution_count": 174,
   "metadata": {
    "ExecuteTime": {
     "end_time": "2018-06-21T11:28:05.894228Z",
     "start_time": "2018-06-21T11:28:05.862301Z"
    }
   },
   "outputs": [
    {
     "data": {
      "text/plain": [
       "(361, 361)"
      ]
     },
     "execution_count": 174,
     "metadata": {},
     "output_type": "execute_result"
    }
   ],
   "source": [
    "d_faces = faces - m_faces\n",
    "c_faces = np.cov(d_faces.T)\n",
    "c_faces.shape"
   ]
  },
  {
   "cell_type": "code",
   "execution_count": 175,
   "metadata": {
    "ExecuteTime": {
     "end_time": "2018-06-21T11:28:07.908900Z",
     "start_time": "2018-06-21T11:28:06.833216Z"
    }
   },
   "outputs": [],
   "source": [
    "ei_val, ei_vec = np.linalg.eig(c_faces)"
   ]
  },
  {
   "cell_type": "code",
   "execution_count": 176,
   "metadata": {
    "ExecuteTime": {
     "end_time": "2018-06-21T11:28:08.189081Z",
     "start_time": "2018-06-21T11:28:08.000124Z"
    }
   },
   "outputs": [
    {
     "data": {
      "text/plain": [
       "[<matplotlib.lines.Line2D at 0x7f0c25cd9fd0>]"
      ]
     },
     "execution_count": 176,
     "metadata": {},
     "output_type": "execute_result"
    },
    {
     "data": {
      "image/png": "[encoded data removed]",
      "text/plain": [
       "<matplotlib.figure.Figure at 0x7f0c25d53a90>"
      ]
     },
     "metadata": {},
     "output_type": "display_data"
    }
   ],
   "source": [
    "ei_val=np.abs(ei_val)\n",
    "plt.plot(ei_val[:30])"
   ]
  },
  {
   "cell_type": "markdown",
   "metadata": {
    "ExecuteTime": {
     "end_time": "2018-06-21T10:39:01.388486Z",
     "start_time": "2018-06-21T10:39:01.385469Z"
    }
   },
   "source": [
    "## We will take 3"
   ]
  },
  {
   "cell_type": "code",
   "execution_count": 189,
   "metadata": {
    "ExecuteTime": {
     "end_time": "2018-06-21T11:34:29.572072Z",
     "start_time": "2018-06-21T11:34:29.561006Z"
    }
   },
   "outputs": [
    {
     "data": {
      "text/plain": [
       "(3, 361)"
      ]
     },
     "execution_count": 189,
     "metadata": {},
     "output_type": "execute_result"
    }
   ],
   "source": [
    "ei_vec = np.abs(ei_vec)\n",
    "u1 = ei_vec[:,:3].T\n",
    "u2 = ei_vec[:, :100].T\n",
    "u3 = ei_vec[:, :361].T\n",
    "u1.shape"
   ]
  },
  {
   "cell_type": "code",
   "execution_count": 190,
   "metadata": {
    "ExecuteTime": {
     "end_time": "2018-06-21T11:34:30.038029Z",
     "start_time": "2018-06-21T11:34:29.905258Z"
    }
   },
   "outputs": [
    {
     "data": {
      "text/plain": [
       "(3, 2429)"
      ]
     },
     "execution_count": 190,
     "metadata": {},
     "output_type": "execute_result"
    }
   ],
   "source": [
    "reduced_faces1 = np.matmul(u1, d_faces.T)\n",
    "reduced_faces2 = np.matmul(u2, d_faces.T)\n",
    "reduced_faces3 = np.matmul(u3, d_faces.T)\n",
    "reduced_faces1.shape"
   ]
  },
  {
   "cell_type": "markdown",
   "metadata": {
    "ExecuteTime": {
     "end_time": "2018-06-21T10:45:09.740074Z",
     "start_time": "2018-06-21T10:45:09.736156Z"
    }
   },
   "source": [
    "## Reconstruction"
   ]
  },
  {
   "cell_type": "code",
   "execution_count": 193,
   "metadata": {
    "ExecuteTime": {
     "end_time": "2018-06-21T11:36:27.788448Z",
     "start_time": "2018-06-21T11:36:27.491401Z"
    }
   },
   "outputs": [
    {
     "data": {
      "text/plain": [
       "(361, 2429)"
      ]
     },
     "execution_count": 193,
     "metadata": {},
     "output_type": "execute_result"
    }
   ],
   "source": [
    "reconstructed_faces1 = np.matmul(np.linalg.pinv(u1), reduced_faces1)\n",
    "reconstructed_faces2 = np.matmul(np.linalg.pinv(u2), reduced_faces2)\n",
    "reconstructed_faces3 = np.matmul(np.linalg.pinv(u3), reduced_faces3)\n",
    "reconstructed_faces1.shape"
   ]
  },
  {
   "cell_type": "code",
   "execution_count": 194,
   "metadata": {
    "ExecuteTime": {
     "end_time": "2018-06-21T11:36:29.132832Z",
     "start_time": "2018-06-21T11:36:28.557383Z"
    }
   },
   "outputs": [
    {
     "data": {
      "text/plain": [
       "<matplotlib.image.AxesImage at 0x7f0c31f491d0>"
      ]
     },
     "execution_count": 194,
     "metadata": {},
     "output_type": "execute_result"
    },
    {
     "data": {
      "image/png": "[encoded data removed]",
      "text/plain": [
       "<matplotlib.figure.Figure at 0x7f0c3212a240>"
      ]
     },
     "metadata": {},
     "output_type": "display_data"
    }
   ],
   "source": [
    "origin = np.reshape(faces[0], [19,19])\n",
    "recon1 = np.reshape(reconstructed_faces1[:,0], [19,19])+ np.reshape(m_faces, [19,19])\n",
    "recon2 = np.reshape(reconstructed_faces2[:,0], [19,19])+ np.reshape(m_faces, [19,19])\n",
    "recon3 = np.reshape(reconstructed_faces3[:,0], [19,19])+ np.reshape(m_faces, [19,19])\n",
    "\n",
    "plt.figure(figsize=[10,10])\n",
    "plt.subplot(1,4,1)\n",
    "plt.imshow(origin, cmap='gray')\n",
    "plt.subplot(1,4,2)\n",
    "plt.imshow(recon1, cmap='gray')\n",
    "plt.subplot(1,4,3)\n",
    "plt.imshow(recon2, cmap='gray')\n",
    "plt.subplot(1,4,4)\n",
    "plt.imshow(recon3, cmap='gray')"
   ]
  },
  {
   "cell_type": "code",
   "execution_count": null,
   "metadata": {},
   "outputs": [],
   "source": []
  }
 ],
 "metadata": {
  "kernelspec": {
   "display_name": "Python 3",
   "language": "python",
   "name": "python3"
  },
  "language_info": {
   "codemirror_mode": {
    "name": "ipython",
    "version": 3
   },
   "file_extension": ".py",
   "mimetype": "text/x-python",
   "name": "python",
   "nbconvert_exporter": "python",
   "pygments_lexer": "ipython3",
   "version": "3.5.2"
  },
  "varInspector": {
   "cols": {
    "lenName": 16,
    "lenType": 16,
    "lenVar": 40
   },
   "kernels_config": {
    "python": {
     "delete_cmd_postfix": "",
     "delete_cmd_prefix": "del ",
     "library": "var_list.py",
     "varRefreshCmd": "print(var_dic_list())"
    },
    "r": {
     "delete_cmd_postfix": ") ",
     "delete_cmd_prefix": "rm(",
     "library": "var_list.r",
     "varRefreshCmd": "cat(var_dic_list()) "
    }
   },
   "types_to_exclude": [
    "module",
    "function",
    "builtin_function_or_method",
    "instance",
    "_Feature"
   ],
   "window_display": false
  }
 },
 "nbformat": 4,
 "nbformat_minor": 2
}
